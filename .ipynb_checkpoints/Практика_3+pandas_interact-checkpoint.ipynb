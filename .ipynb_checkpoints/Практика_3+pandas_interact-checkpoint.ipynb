{
 "cells": [
  {
   "cell_type": "markdown",
   "metadata": {},
   "source": [
    "# Начало расчета"
   ]
  },
  {
   "cell_type": "markdown",
   "metadata": {},
   "source": [
    "## Импорт всех нужных библиотек"
   ]
  },
  {
   "cell_type": "code",
   "execution_count": 1,
   "metadata": {
    "scrolled": true
   },
   "outputs": [],
   "source": [
    "from scipy import interpolate\n",
    "import openpyxl\n",
    "import matplotlib.pyplot as plt\n",
    "import numpy as np\n",
    "import pandas as pd\n",
    "from ipywidgets import interact\n",
    "import ipywidgets as widgets"
   ]
  },
  {
   "cell_type": "markdown",
   "metadata": {},
   "source": [
    "Задаем данные размеры эксперимента"
   ]
  },
  {
   "cell_type": "code",
   "execution_count": 2,
   "metadata": {},
   "outputs": [],
   "source": [
    "N=8\n",
    "K=5"
   ]
  },
  {
   "cell_type": "markdown",
   "metadata": {},
   "source": [
    "*Импорт значений Y*"
   ]
  },
  {
   "cell_type": "code",
   "execution_count": 3,
   "metadata": {},
   "outputs": [
    {
     "data": {
      "text/html": [
       "<div>\n",
       "<style scoped>\n",
       "    .dataframe tbody tr th:only-of-type {\n",
       "        vertical-align: middle;\n",
       "    }\n",
       "\n",
       "    .dataframe tbody tr th {\n",
       "        vertical-align: top;\n",
       "    }\n",
       "\n",
       "    .dataframe thead th {\n",
       "        text-align: right;\n",
       "    }\n",
       "</style>\n",
       "<table border=\"1\" class=\"dataframe\">\n",
       "  <thead>\n",
       "    <tr style=\"text-align: right;\">\n",
       "      <th></th>\n",
       "      <th>y1</th>\n",
       "      <th>y2</th>\n",
       "      <th>y3</th>\n",
       "      <th>y4</th>\n",
       "      <th>y5</th>\n",
       "    </tr>\n",
       "  </thead>\n",
       "  <tbody>\n",
       "    <tr>\n",
       "      <th>0</th>\n",
       "      <td>2.588</td>\n",
       "      <td>2.597</td>\n",
       "      <td>2.542</td>\n",
       "      <td>2.537</td>\n",
       "      <td>2.539</td>\n",
       "    </tr>\n",
       "    <tr>\n",
       "      <th>1</th>\n",
       "      <td>4.191</td>\n",
       "      <td>4.165</td>\n",
       "      <td>4.152</td>\n",
       "      <td>4.129</td>\n",
       "      <td>4.138</td>\n",
       "    </tr>\n",
       "    <tr>\n",
       "      <th>2</th>\n",
       "      <td>3.201</td>\n",
       "      <td>3.231</td>\n",
       "      <td>3.202</td>\n",
       "      <td>3.199</td>\n",
       "      <td>3.248</td>\n",
       "    </tr>\n",
       "    <tr>\n",
       "      <th>3</th>\n",
       "      <td>5.509</td>\n",
       "      <td>5.453</td>\n",
       "      <td>5.448</td>\n",
       "      <td>5.511</td>\n",
       "      <td>5.445</td>\n",
       "    </tr>\n",
       "    <tr>\n",
       "      <th>4</th>\n",
       "      <td>3.793</td>\n",
       "      <td>3.830</td>\n",
       "      <td>3.850</td>\n",
       "      <td>3.789</td>\n",
       "      <td>3.852</td>\n",
       "    </tr>\n",
       "    <tr>\n",
       "      <th>5</th>\n",
       "      <td>6.718</td>\n",
       "      <td>6.752</td>\n",
       "      <td>6.760</td>\n",
       "      <td>6.709</td>\n",
       "      <td>6.743</td>\n",
       "    </tr>\n",
       "    <tr>\n",
       "      <th>6</th>\n",
       "      <td>4.963</td>\n",
       "      <td>4.966</td>\n",
       "      <td>5.001</td>\n",
       "      <td>4.952</td>\n",
       "      <td>5.007</td>\n",
       "    </tr>\n",
       "    <tr>\n",
       "      <th>7</th>\n",
       "      <td>9.738</td>\n",
       "      <td>9.753</td>\n",
       "      <td>9.702</td>\n",
       "      <td>9.746</td>\n",
       "      <td>9.737</td>\n",
       "    </tr>\n",
       "  </tbody>\n",
       "</table>\n",
       "</div>"
      ],
      "text/plain": [
       "      y1     y2     y3     y4     y5\n",
       "0  2.588  2.597  2.542  2.537  2.539\n",
       "1  4.191  4.165  4.152  4.129  4.138\n",
       "2  3.201  3.231  3.202  3.199  3.248\n",
       "3  5.509  5.453  5.448  5.511  5.445\n",
       "4  3.793  3.830  3.850  3.789  3.852\n",
       "5  6.718  6.752  6.760  6.709  6.743\n",
       "6  4.963  4.966  5.001  4.952  5.007\n",
       "7  9.738  9.753  9.702  9.746  9.737"
      ]
     },
     "execution_count": 3,
     "metadata": {},
     "output_type": "execute_result"
    }
   ],
   "source": [
    "Y = pd.read_csv('3Y.csv', sep = ';', decimal = '.')\n",
    "Y"
   ]
  },
  {
   "cell_type": "markdown",
   "metadata": {},
   "source": [
    "*Импорт значений X*"
   ]
  },
  {
   "cell_type": "code",
   "execution_count": 4,
   "metadata": {},
   "outputs": [
    {
     "data": {
      "text/html": [
       "<div>\n",
       "<style scoped>\n",
       "    .dataframe tbody tr th:only-of-type {\n",
       "        vertical-align: middle;\n",
       "    }\n",
       "\n",
       "    .dataframe tbody tr th {\n",
       "        vertical-align: top;\n",
       "    }\n",
       "\n",
       "    .dataframe thead th {\n",
       "        text-align: right;\n",
       "    }\n",
       "</style>\n",
       "<table border=\"1\" class=\"dataframe\">\n",
       "  <thead>\n",
       "    <tr style=\"text-align: right;\">\n",
       "      <th></th>\n",
       "      <th>x0</th>\n",
       "      <th>x1</th>\n",
       "      <th>x2</th>\n",
       "      <th>x3</th>\n",
       "      <th>x1x2</th>\n",
       "      <th>x1x3</th>\n",
       "      <th>x2x3</th>\n",
       "      <th>x1x2x3</th>\n",
       "    </tr>\n",
       "  </thead>\n",
       "  <tbody>\n",
       "    <tr>\n",
       "      <th>0</th>\n",
       "      <td>1</td>\n",
       "      <td>-1</td>\n",
       "      <td>-1</td>\n",
       "      <td>-1</td>\n",
       "      <td>1</td>\n",
       "      <td>1</td>\n",
       "      <td>1</td>\n",
       "      <td>-1</td>\n",
       "    </tr>\n",
       "    <tr>\n",
       "      <th>1</th>\n",
       "      <td>1</td>\n",
       "      <td>1</td>\n",
       "      <td>-1</td>\n",
       "      <td>-1</td>\n",
       "      <td>-1</td>\n",
       "      <td>-1</td>\n",
       "      <td>1</td>\n",
       "      <td>1</td>\n",
       "    </tr>\n",
       "    <tr>\n",
       "      <th>2</th>\n",
       "      <td>1</td>\n",
       "      <td>-1</td>\n",
       "      <td>1</td>\n",
       "      <td>-1</td>\n",
       "      <td>-1</td>\n",
       "      <td>1</td>\n",
       "      <td>-1</td>\n",
       "      <td>1</td>\n",
       "    </tr>\n",
       "    <tr>\n",
       "      <th>3</th>\n",
       "      <td>1</td>\n",
       "      <td>1</td>\n",
       "      <td>1</td>\n",
       "      <td>-1</td>\n",
       "      <td>1</td>\n",
       "      <td>-1</td>\n",
       "      <td>-1</td>\n",
       "      <td>-1</td>\n",
       "    </tr>\n",
       "    <tr>\n",
       "      <th>4</th>\n",
       "      <td>1</td>\n",
       "      <td>-1</td>\n",
       "      <td>-1</td>\n",
       "      <td>1</td>\n",
       "      <td>1</td>\n",
       "      <td>-1</td>\n",
       "      <td>-1</td>\n",
       "      <td>1</td>\n",
       "    </tr>\n",
       "    <tr>\n",
       "      <th>5</th>\n",
       "      <td>1</td>\n",
       "      <td>1</td>\n",
       "      <td>-1</td>\n",
       "      <td>1</td>\n",
       "      <td>-1</td>\n",
       "      <td>1</td>\n",
       "      <td>-1</td>\n",
       "      <td>-1</td>\n",
       "    </tr>\n",
       "    <tr>\n",
       "      <th>6</th>\n",
       "      <td>1</td>\n",
       "      <td>-1</td>\n",
       "      <td>1</td>\n",
       "      <td>1</td>\n",
       "      <td>-1</td>\n",
       "      <td>-1</td>\n",
       "      <td>1</td>\n",
       "      <td>-1</td>\n",
       "    </tr>\n",
       "    <tr>\n",
       "      <th>7</th>\n",
       "      <td>1</td>\n",
       "      <td>1</td>\n",
       "      <td>1</td>\n",
       "      <td>1</td>\n",
       "      <td>1</td>\n",
       "      <td>1</td>\n",
       "      <td>1</td>\n",
       "      <td>1</td>\n",
       "    </tr>\n",
       "  </tbody>\n",
       "</table>\n",
       "</div>"
      ],
      "text/plain": [
       "   x0  x1  x2  x3  x1x2  x1x3  x2x3  x1x2x3\n",
       "0   1  -1  -1  -1     1     1     1      -1\n",
       "1   1   1  -1  -1    -1    -1     1       1\n",
       "2   1  -1   1  -1    -1     1    -1       1\n",
       "3   1   1   1  -1     1    -1    -1      -1\n",
       "4   1  -1  -1   1     1    -1    -1       1\n",
       "5   1   1  -1   1    -1     1    -1      -1\n",
       "6   1  -1   1   1    -1    -1     1      -1\n",
       "7   1   1   1   1     1     1     1       1"
      ]
     },
     "execution_count": 4,
     "metadata": {},
     "output_type": "execute_result"
    }
   ],
   "source": [
    "X = pd.read_csv('3X.csv', sep = ';', decimal = '.')\n",
    "X"
   ]
  },
  {
   "cell_type": "markdown",
   "metadata": {},
   "source": [
    "### 3.Рассчитайте среднее арифметическое для всех серий опытов эксперимента."
   ]
  },
  {
   "cell_type": "code",
   "execution_count": 5,
   "metadata": {},
   "outputs": [
    {
     "data": {
      "text/html": [
       "<div>\n",
       "<style scoped>\n",
       "    .dataframe tbody tr th:only-of-type {\n",
       "        vertical-align: middle;\n",
       "    }\n",
       "\n",
       "    .dataframe tbody tr th {\n",
       "        vertical-align: top;\n",
       "    }\n",
       "\n",
       "    .dataframe thead th {\n",
       "        text-align: right;\n",
       "    }\n",
       "</style>\n",
       "<table border=\"1\" class=\"dataframe\">\n",
       "  <thead>\n",
       "    <tr style=\"text-align: right;\">\n",
       "      <th></th>\n",
       "      <th>Yср</th>\n",
       "    </tr>\n",
       "  </thead>\n",
       "  <tbody>\n",
       "    <tr>\n",
       "      <th>0</th>\n",
       "      <td>2.5606</td>\n",
       "    </tr>\n",
       "    <tr>\n",
       "      <th>1</th>\n",
       "      <td>4.1550</td>\n",
       "    </tr>\n",
       "    <tr>\n",
       "      <th>2</th>\n",
       "      <td>3.2162</td>\n",
       "    </tr>\n",
       "    <tr>\n",
       "      <th>3</th>\n",
       "      <td>5.4732</td>\n",
       "    </tr>\n",
       "    <tr>\n",
       "      <th>4</th>\n",
       "      <td>3.8228</td>\n",
       "    </tr>\n",
       "    <tr>\n",
       "      <th>5</th>\n",
       "      <td>6.7364</td>\n",
       "    </tr>\n",
       "    <tr>\n",
       "      <th>6</th>\n",
       "      <td>4.9778</td>\n",
       "    </tr>\n",
       "    <tr>\n",
       "      <th>7</th>\n",
       "      <td>9.7352</td>\n",
       "    </tr>\n",
       "  </tbody>\n",
       "</table>\n",
       "</div>"
      ],
      "text/plain": [
       "      Yср\n",
       "0  2.5606\n",
       "1  4.1550\n",
       "2  3.2162\n",
       "3  5.4732\n",
       "4  3.8228\n",
       "5  6.7364\n",
       "6  4.9778\n",
       "7  9.7352"
      ]
     },
     "execution_count": 5,
     "metadata": {},
     "output_type": "execute_result"
    }
   ],
   "source": [
    "Yср=pd.DataFrame(np.mean(Y,axis=1))\n",
    "Yср.columns=['Yср']\n",
    "Yср"
   ]
  },
  {
   "cell_type": "markdown",
   "metadata": {},
   "source": [
    "### 4.Рассчитайте дисперсии опытных значений функции отклика по формуле (3.3)."
   ]
  },
  {
   "cell_type": "code",
   "execution_count": 6,
   "metadata": {},
   "outputs": [
    {
     "data": {
      "text/html": [
       "<div>\n",
       "<style scoped>\n",
       "    .dataframe tbody tr th:only-of-type {\n",
       "        vertical-align: middle;\n",
       "    }\n",
       "\n",
       "    .dataframe tbody tr th {\n",
       "        vertical-align: top;\n",
       "    }\n",
       "\n",
       "    .dataframe thead th {\n",
       "        text-align: right;\n",
       "    }\n",
       "</style>\n",
       "<table border=\"1\" class=\"dataframe\">\n",
       "  <thead>\n",
       "    <tr style=\"text-align: right;\">\n",
       "      <th></th>\n",
       "      <th>Disp</th>\n",
       "    </tr>\n",
       "  </thead>\n",
       "  <tbody>\n",
       "    <tr>\n",
       "      <th>0</th>\n",
       "      <td>0.000689</td>\n",
       "    </tr>\n",
       "    <tr>\n",
       "      <th>1</th>\n",
       "      <td>0.000474</td>\n",
       "    </tr>\n",
       "    <tr>\n",
       "      <th>2</th>\n",
       "      <td>0.000392</td>\n",
       "    </tr>\n",
       "    <tr>\n",
       "      <th>3</th>\n",
       "      <td>0.000910</td>\n",
       "    </tr>\n",
       "    <tr>\n",
       "      <th>4</th>\n",
       "      <td>0.000735</td>\n",
       "    </tr>\n",
       "    <tr>\n",
       "      <th>5</th>\n",
       "      <td>0.000387</td>\n",
       "    </tr>\n",
       "    <tr>\n",
       "      <th>6</th>\n",
       "      <td>0.000483</td>\n",
       "    </tr>\n",
       "    <tr>\n",
       "      <th>7</th>\n",
       "      <td>0.000309</td>\n",
       "    </tr>\n",
       "  </tbody>\n",
       "</table>\n",
       "</div>"
      ],
      "text/plain": [
       "       Disp\n",
       "0  0.000689\n",
       "1  0.000474\n",
       "2  0.000392\n",
       "3  0.000910\n",
       "4  0.000735\n",
       "5  0.000387\n",
       "6  0.000483\n",
       "7  0.000309"
      ]
     },
     "execution_count": 6,
     "metadata": {},
     "output_type": "execute_result"
    }
   ],
   "source": [
    "Disp=pd.DataFrame(np.var(Y,axis=1))\n",
    "Disp.columns=['Disp']\n",
    "Disp"
   ]
  },
  {
   "cell_type": "markdown",
   "metadata": {},
   "source": [
    "### 5.Вычислите критерий Кохрена и проверьте воспроизводимость эксперимента (используйте таблицы для критических значений в сети Интернет)."
   ]
  },
  {
   "cell_type": "markdown",
   "metadata": {},
   "source": [
    "Рассчитаем максимальную дисперсию"
   ]
  },
  {
   "cell_type": "code",
   "execution_count": 7,
   "metadata": {},
   "outputs": [
    {
     "data": {
      "text/plain": [
       "0.0009097599999999971"
      ]
     },
     "execution_count": 7,
     "metadata": {},
     "output_type": "execute_result"
    }
   ],
   "source": [
    "disp_max=np.amax(Disp,axis=0)\n",
    "disp_max[0]"
   ]
  },
  {
   "cell_type": "markdown",
   "metadata": {},
   "source": [
    "Значение критерия Кохрейна"
   ]
  },
  {
   "cell_type": "code",
   "execution_count": 8,
   "metadata": {},
   "outputs": [
    {
     "data": {
      "text/plain": [
       "0.20777986881292057"
      ]
     },
     "execution_count": 8,
     "metadata": {},
     "output_type": "execute_result"
    }
   ],
   "source": [
    "Gp=disp_max/np.sum(Disp)\n",
    "Gp[0]"
   ]
  },
  {
   "cell_type": "markdown",
   "metadata": {},
   "source": [
    "Критическое значение критерия Кохрейна:\n",
    "\n",
    "Gkr=0.4387 (при K=5, N=8, уровень значимости 0,05)"
   ]
  },
  {
   "cell_type": "markdown",
   "metadata": {},
   "source": [
    "**Следовательно гипотеза об однородности дисперсий принимается**"
   ]
  },
  {
   "cell_type": "markdown",
   "metadata": {},
   "source": [
    "### 6.Вычислить значения коэффициентов уравнения регрессии в соответствие с (3.5)-(3.7)."
   ]
  },
  {
   "cell_type": "code",
   "execution_count": 9,
   "metadata": {},
   "outputs": [
    {
     "data": {
      "text/html": [
       "<div>\n",
       "<style scoped>\n",
       "    .dataframe tbody tr th:only-of-type {\n",
       "        vertical-align: middle;\n",
       "    }\n",
       "\n",
       "    .dataframe tbody tr th {\n",
       "        vertical-align: top;\n",
       "    }\n",
       "\n",
       "    .dataframe thead th {\n",
       "        text-align: right;\n",
       "    }\n",
       "</style>\n",
       "<table border=\"1\" class=\"dataframe\">\n",
       "  <thead>\n",
       "    <tr style=\"text-align: right;\">\n",
       "      <th></th>\n",
       "      <th>Betta</th>\n",
       "    </tr>\n",
       "  </thead>\n",
       "  <tbody>\n",
       "    <tr>\n",
       "      <th>x0</th>\n",
       "      <td>5.08465</td>\n",
       "    </tr>\n",
       "    <tr>\n",
       "      <th>x1</th>\n",
       "      <td>1.44030</td>\n",
       "    </tr>\n",
       "    <tr>\n",
       "      <th>x2</th>\n",
       "      <td>0.76595</td>\n",
       "    </tr>\n",
       "    <tr>\n",
       "      <th>x3</th>\n",
       "      <td>1.23340</td>\n",
       "    </tr>\n",
       "    <tr>\n",
       "      <th>x1x2</th>\n",
       "      <td>0.31330</td>\n",
       "    </tr>\n",
       "    <tr>\n",
       "      <th>x1x3</th>\n",
       "      <td>0.47745</td>\n",
       "    </tr>\n",
       "    <tr>\n",
       "      <th>x2x3</th>\n",
       "      <td>0.27250</td>\n",
       "    </tr>\n",
       "    <tr>\n",
       "      <th>x1x2x3</th>\n",
       "      <td>0.14765</td>\n",
       "    </tr>\n",
       "  </tbody>\n",
       "</table>\n",
       "</div>"
      ],
      "text/plain": [
       "          Betta\n",
       "x0      5.08465\n",
       "x1      1.44030\n",
       "x2      0.76595\n",
       "x3      1.23340\n",
       "x1x2    0.31330\n",
       "x1x3    0.47745\n",
       "x2x3    0.27250\n",
       "x1x2x3  0.14765"
      ]
     },
     "execution_count": 9,
     "metadata": {},
     "output_type": "execute_result"
    }
   ],
   "source": [
    "Betta=pd.DataFrame(np.transpose(X).dot(Yср)/N)\n",
    "Betta.columns=['Betta']\n",
    "Betta"
   ]
  },
  {
   "cell_type": "markdown",
   "metadata": {},
   "source": [
    "### 7.Вычислите дисперсии ошибок определения коэффициентов регрессионного уравнения."
   ]
  },
  {
   "cell_type": "code",
   "execution_count": 10,
   "metadata": {},
   "outputs": [
    {
     "data": {
      "text/html": [
       "<div>\n",
       "<style scoped>\n",
       "    .dataframe tbody tr th:only-of-type {\n",
       "        vertical-align: middle;\n",
       "    }\n",
       "\n",
       "    .dataframe tbody tr th {\n",
       "        vertical-align: top;\n",
       "    }\n",
       "\n",
       "    .dataframe thead th {\n",
       "        text-align: right;\n",
       "    }\n",
       "</style>\n",
       "<table border=\"1\" class=\"dataframe\">\n",
       "  <thead>\n",
       "    <tr style=\"text-align: right;\">\n",
       "      <th></th>\n",
       "      <th>Sb</th>\n",
       "    </tr>\n",
       "  </thead>\n",
       "  <tbody>\n",
       "    <tr>\n",
       "      <th>x0</th>\n",
       "      <td>0.000014</td>\n",
       "    </tr>\n",
       "    <tr>\n",
       "      <th>x1</th>\n",
       "      <td>0.000014</td>\n",
       "    </tr>\n",
       "    <tr>\n",
       "      <th>x2</th>\n",
       "      <td>0.000014</td>\n",
       "    </tr>\n",
       "    <tr>\n",
       "      <th>x3</th>\n",
       "      <td>0.000014</td>\n",
       "    </tr>\n",
       "    <tr>\n",
       "      <th>x1x2</th>\n",
       "      <td>0.000014</td>\n",
       "    </tr>\n",
       "    <tr>\n",
       "      <th>x1x3</th>\n",
       "      <td>0.000014</td>\n",
       "    </tr>\n",
       "    <tr>\n",
       "      <th>x2x3</th>\n",
       "      <td>0.000014</td>\n",
       "    </tr>\n",
       "    <tr>\n",
       "      <th>x1x2x3</th>\n",
       "      <td>0.000014</td>\n",
       "    </tr>\n",
       "  </tbody>\n",
       "</table>\n",
       "</div>"
      ],
      "text/plain": [
       "              Sb\n",
       "x0      0.000014\n",
       "x1      0.000014\n",
       "x2      0.000014\n",
       "x3      0.000014\n",
       "x1x2    0.000014\n",
       "x1x3    0.000014\n",
       "x2x3    0.000014\n",
       "x1x2x3  0.000014"
      ]
     },
     "execution_count": 10,
     "metadata": {},
     "output_type": "execute_result"
    }
   ],
   "source": [
    "Sb=np.sum(Disp)/N/(K*N)\n",
    "Sb=pd.DataFrame([Sb]*8)\n",
    "Sb.columns=['Sb']\n",
    "Sb.index =Betta.index\n",
    "Sb"
   ]
  },
  {
   "cell_type": "markdown",
   "metadata": {},
   "source": [
    "### 8.Вычислите критерий Стьюдента и проверьте гипотезу о статистической значимости коэффициентов уравнения регрессии (используйте таблицы для критических значений в сети Интернет)."
   ]
  },
  {
   "cell_type": "code",
   "execution_count": 11,
   "metadata": {},
   "outputs": [
    {
     "name": "stderr",
     "output_type": "stream",
     "text": [
      "C:\\Users\\Wladimir\\AppData\\Local\\Temp\\ipykernel_8288\\2683379127.py:2: FutureWarning: Calling a ufunc on non-aligned DataFrames (or DataFrame/Series combination). Currently, the indices are ignored and the result takes the index/columns of the first DataFrame. In the future , the DataFrames/Series will be aligned before applying the ufunc.\n",
      "Convert one of the arguments to a NumPy array (eg 'ufunc(df1, np.asarray(df2)') to keep the current behaviour, or align manually (eg 'df1, df2 = df1.align(df2)') before passing to the ufunc to obtain the future behaviour and silence this warning.\n",
      "  T=np.divide(abs(Betta),Sb)\n"
     ]
    },
    {
     "data": {
      "text/html": [
       "<div>\n",
       "<style scoped>\n",
       "    .dataframe tbody tr th:only-of-type {\n",
       "        vertical-align: middle;\n",
       "    }\n",
       "\n",
       "    .dataframe tbody tr th {\n",
       "        vertical-align: top;\n",
       "    }\n",
       "\n",
       "    .dataframe thead th {\n",
       "        text-align: right;\n",
       "    }\n",
       "</style>\n",
       "<table border=\"1\" class=\"dataframe\">\n",
       "  <thead>\n",
       "    <tr style=\"text-align: right;\">\n",
       "      <th></th>\n",
       "      <th>Betta</th>\n",
       "    </tr>\n",
       "  </thead>\n",
       "  <tbody>\n",
       "    <tr>\n",
       "      <th>x0</th>\n",
       "      <td>5.08465</td>\n",
       "    </tr>\n",
       "    <tr>\n",
       "      <th>x1</th>\n",
       "      <td>1.44030</td>\n",
       "    </tr>\n",
       "    <tr>\n",
       "      <th>x2</th>\n",
       "      <td>0.76595</td>\n",
       "    </tr>\n",
       "    <tr>\n",
       "      <th>x3</th>\n",
       "      <td>1.23340</td>\n",
       "    </tr>\n",
       "    <tr>\n",
       "      <th>x1x2</th>\n",
       "      <td>0.31330</td>\n",
       "    </tr>\n",
       "    <tr>\n",
       "      <th>x1x3</th>\n",
       "      <td>0.47745</td>\n",
       "    </tr>\n",
       "    <tr>\n",
       "      <th>x2x3</th>\n",
       "      <td>0.27250</td>\n",
       "    </tr>\n",
       "    <tr>\n",
       "      <th>x1x2x3</th>\n",
       "      <td>0.14765</td>\n",
       "    </tr>\n",
       "  </tbody>\n",
       "</table>\n",
       "</div>"
      ],
      "text/plain": [
       "          Betta\n",
       "x0      5.08465\n",
       "x1      1.44030\n",
       "x2      0.76595\n",
       "x3      1.23340\n",
       "x1x2    0.31330\n",
       "x1x3    0.47745\n",
       "x2x3    0.27250\n",
       "x1x2x3  0.14765"
      ]
     },
     "execution_count": 11,
     "metadata": {},
     "output_type": "execute_result"
    }
   ],
   "source": [
    "# Sb, Betta = Sb.align(Betta)\n",
    "T=np.divide(abs(Betta),Sb)\n",
    "T.columns=['t']\n",
    "Betta\n"
   ]
  },
  {
   "cell_type": "markdown",
   "metadata": {},
   "source": [
    "число степеней свободы"
   ]
  },
  {
   "cell_type": "code",
   "execution_count": 12,
   "metadata": {},
   "outputs": [
    {
     "data": {
      "text/plain": [
       "32"
      ]
     },
     "execution_count": 12,
     "metadata": {},
     "output_type": "execute_result"
    }
   ],
   "source": [
    "v=N*(K-1)\n",
    "v"
   ]
  },
  {
   "cell_type": "markdown",
   "metadata": {},
   "source": [
    "Критическое значени : tkr=2.038\n",
    "\n",
    "**Следовательно гипотеза о значимости принимается**"
   ]
  },
  {
   "cell_type": "markdown",
   "metadata": {},
   "source": [
    "### 9.Запишите в явном виде полученную математическую модель в виде регрессионного уравнения."
   ]
  },
  {
   "cell_type": "code",
   "execution_count": 13,
   "metadata": {},
   "outputs": [
    {
     "name": "stdout",
     "output_type": "stream",
     "text": [
      "y = 5.08465 + 1.440*x1 + 0.7659500000000004*x2 + 1.2334*x3 + 0.313300*x1*x2 + 0.477450*x1*x3 + 0.272500*x2*x3 + 0.147650*x1*x2*x3\n"
     ]
    }
   ],
   "source": [
    "print('y = '+str(Betta.iloc[0][0])+' + '+str(Betta.iloc[1][0])[:5]+'*x1 + '+str(Betta.iloc[2][0])+'*x2 + '+str(Betta.iloc[3][0])+'*x3 + '+str(Betta.iloc[4][0])[:8]+'*x1*x2 + '+str(Betta.iloc[5][0])[:8]+'*x1*x3 + '+str(Betta.iloc[6][0])[:8]+'*x2*x3 + '+str(Betta.iloc[7][0])[:8]+'*x1*x2*x3')"
   ]
  },
  {
   "cell_type": "markdown",
   "metadata": {},
   "source": [
    "### 10.После этого рассчитайте критерий Фишера и проверьте адекватность математической модели (используйте таблицы для критических значений в сети Интернет).\n"
   ]
  },
  {
   "cell_type": "code",
   "execution_count": 14,
   "metadata": {},
   "outputs": [],
   "source": [
    "def y(x1,x2,x3,i):\n",
    "    XX=pd.DataFrame([x1,x2,x3,x1*x2,x1*x3,x2*x3,x1*x2*x3])\n",
    "    Bettayi=Betta.head(i)\n",
    "    XXi=XX.head(i)\n",
    "    y = np.dot(np.transpose(Bettayi),XXi)\n",
    "    return y[0][0]"
   ]
  },
  {
   "cell_type": "markdown",
   "metadata": {},
   "source": [
    "*число значимых коэффициентов регрессии:*"
   ]
  },
  {
   "cell_type": "code",
   "execution_count": 15,
   "metadata": {},
   "outputs": [
    {
     "data": {
      "application/vnd.jupyter.widget-view+json": {
       "model_id": "83ed782d0f654999ba1c978b1ebe1bab",
       "version_major": 2,
       "version_minor": 0
      },
      "text/plain": [
       "interactive(children=(IntSlider(value=1, description='d', max=7, min=1), Output()), _dom_classes=('widget-inte…"
      ]
     },
     "metadata": {},
     "output_type": "display_data"
    }
   ],
   "source": [
    "X=np.array(X)\n",
    "Yср=np.array(Yср)\n",
    "def f(d):\n",
    "    YY=0\n",
    "    YYY=0\n",
    "    for i in range(0,N):\n",
    "        YYY=np.square(y(X[1][i],X[2][i],X[3][i],d)-Yср[i])\n",
    "        YY=YY+YYY\n",
    "    \n",
    "    Sa=YY/(N-d)\n",
    "    print('Sa = '+str(Sa[0])[:9])\n",
    "    Sy=np.sum(Disp)/N\n",
    "    print('Sy = '+str(Sy[0])[:9])\n",
    "    Fp=Sa/Sy\n",
    "    print('Критерий Фишера = '+str(Fp[0])[:9])\n",
    "\n",
    "    vch=K*(N-d)\n",
    "    vzn=N*(K-1)\n",
    "    print('Число степеней свободы: ')\n",
    "    print('Числителя = '+str(vch))\n",
    "    print('Знаменателя = '+str(vzn))\n",
    "    F_kr=2.0\n",
    "    if  int(Fp)>F_kr:\n",
    "        print(str(Fp[0])[:9]+' > '+'F_kr = 2.0')\n",
    "        print('\\033[1m'+'Следовательно гипотеза об адекватности математической модели отклоняется'+'\\033[1m')\n",
    "    else:\n",
    "        print(str(Fp[0])[:9]+' < '+'F_kr = 2.0')\n",
    "        print('\\033[1m'+'Следовательно гипотеза об адекватности математической модели принимается'+'\\033[1m')\n",
    "interact(f,d=widgets.IntSlider(min=1, max=7, step=1));"
   ]
  },
  {
   "cell_type": "code",
   "execution_count": null,
   "metadata": {},
   "outputs": [],
   "source": []
  }
 ],
 "metadata": {
  "kernelspec": {
   "display_name": "Python 3 (ipykernel)",
   "language": "python",
   "name": "python3"
  },
  "language_info": {
   "codemirror_mode": {
    "name": "ipython",
    "version": 3
   },
   "file_extension": ".py",
   "mimetype": "text/x-python",
   "name": "python",
   "nbconvert_exporter": "python",
   "pygments_lexer": "ipython3",
   "version": "3.9.13"
  }
 },
 "nbformat": 4,
 "nbformat_minor": 4
}
