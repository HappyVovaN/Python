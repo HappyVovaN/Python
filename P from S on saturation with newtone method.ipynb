{
 "cells": [
  {
   "cell_type": "code",
   "execution_count": 3,
   "metadata": {},
   "outputs": [
    {
     "name": "stdout",
     "output_type": "stream",
     "text": [
      "P= 0.2943172870957898 МПа\n",
      "t= 132.87434303767276 C\n",
      "6.997948478015058 7.240326035411489\n"
     ]
    }
   ],
   "source": [
    "S=6.99795\n",
    "S3=S+0.1\n",
    "S1=1\n",
    "S2=1\n",
    "P1=0.6\n",
    "P2=P1+0.1\n",
    "from iapws import IAPWS97\n",
    "\n",
    "while abs(S3-S)>0.000001:\n",
    "    sat_steam=IAPWS97(P=P1,x=1)\n",
    "    S1=sat_steam.s\n",
    "    sat_steam=IAPWS97(P=P2,x=1)\n",
    "    S2=sat_steam.s\n",
    "    tan=(P2-P1)/(S2-S1)\n",
    "    if S1<S:\n",
    "        P3=tan*(S-S1)+P1\n",
    "        P1=P3\n",
    "    else:\n",
    "        P3=tan*(S-S1)+P1\n",
    "        P2=P1\n",
    "        P1=P3\n",
    "    sat_steam=IAPWS97(P=P3,x=1)\n",
    "    S3=sat_steam.s\n",
    "    T3=sat_steam.T\n",
    "print('P=',P3,'МПа')\n",
    "print('t=',T3-273.15,'C')\n",
    "print(S1,S2)\n"
   ]
  },
  {
   "cell_type": "code",
   "execution_count": null,
   "metadata": {},
   "outputs": [],
   "source": []
  }
 ],
 "metadata": {
  "kernelspec": {
   "display_name": "Python 3 (ipykernel)",
   "language": "python",
   "name": "python3"
  },
  "language_info": {
   "codemirror_mode": {
    "name": "ipython",
    "version": 3
   },
   "file_extension": ".py",
   "mimetype": "text/x-python",
   "name": "python",
   "nbconvert_exporter": "python",
   "pygments_lexer": "ipython3",
   "version": "3.8.8"
  }
 },
 "nbformat": 4,
 "nbformat_minor": 4
}
